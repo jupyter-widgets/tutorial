{
 "cells": [
  {
   "cell_type": "markdown",
   "metadata": {},
   "source": [
    "<!--NAVIGATION-->\n",
    "< [The Jupyter Interactive Widget Ecosystem](00.00-index.ipynb) | [Contents](00.00-index.ipynb) | [Overview](01.00-overview.ipynb) >"
   ]
  },
  {
   "cell_type": "markdown",
   "metadata": {},
   "source": [
    "# Jupyter Widgets Tutorial Introduction\n",
    "\n",
    "## How to ask questions\n",
    "\n",
    "There is a \"raise hand\" button but instead, please use the chat or the Q/A. Prefer the chat, we will be able to answer your questions and interact in real-time through the chat. If need be we can have the host stop presenting to answer a question that's especially interesting or pertinent. We're not able to answer the Q/A questions unless we stop the flow of the tutorial to answer the question.\n",
    "\n",
    "## Jupyter lab essentials\n",
    "\n",
    "+ To open a notebook: double-click it in the file browser.\n",
    "+ To hide the file browser: click on the folder icon.\n",
    "+ To run a single code cell in the notebook: Push `Shift` and `Enter`, or use the \"play\" button.\n",
    "+ To add a new view for an output, right-click on an output and select \"Create new view for output\".\n",
    "+ Use tab to autocomplete and shift-tab to show documentation.\n",
    "+ Use CTRL + \"/\" to comment/uncomment code"
   ]
  },
  {
   "cell_type": "markdown",
   "metadata": {},
   "source": [
    "## Interactive Jupyter widgets\n",
    "\n",
    "A Python widget is an object that represents a control on the front end, like a slider. A single control can be displayed multiple times - they all represent the same python object."
   ]
  },
  {
   "cell_type": "code",
   "execution_count": null,
   "metadata": {},
   "outputs": [],
   "source": [
    "import ipywidgets as widgets"
   ]
  },
  {
   "cell_type": "code",
   "execution_count": null,
   "metadata": {},
   "outputs": [],
   "source": [
    "slider = widgets.FloatSlider(\n",
    "    value=7.5,\n",
    "    min=5.0,\n",
    "    max=10.0,\n",
    "    step=0.1,\n",
    "    description='Input:',\n",
    ")\n",
    "\n",
    "slider"
   ]
  },
  {
   "cell_type": "markdown",
   "metadata": {},
   "source": [
    "You can trigger actions in the kernel when a control value changes by \"observing\" the value. Here we set a global variable when the slider value changes."
   ]
  },
  {
   "cell_type": "code",
   "execution_count": null,
   "metadata": {
    "scrolled": true
   },
   "outputs": [],
   "source": [
    "square = slider.value * slider.value\n",
    "\n",
    "def handle_change(change):\n",
    "    global square\n",
    "    square = change.new * change.new\n",
    "    \n",
    "slider.observe(handle_change, 'value')"
   ]
  },
  {
   "cell_type": "code",
   "execution_count": null,
   "metadata": {},
   "outputs": [],
   "source": [
    "square"
   ]
  },
  {
   "cell_type": "markdown",
   "metadata": {},
   "source": [
    "## `interact`: a shortcut for examining functions\n",
    "\n",
    "The `interact` function generates widgets based on a function's arguments and displays any output from the function."
   ]
  },
  {
   "cell_type": "code",
   "execution_count": null,
   "metadata": {},
   "outputs": [],
   "source": [
    "def f(x):\n",
    "    print(x * x)"
   ]
  },
  {
   "cell_type": "code",
   "execution_count": null,
   "metadata": {},
   "outputs": [],
   "source": [
    "f(9)"
   ]
  },
  {
   "cell_type": "code",
   "execution_count": null,
   "metadata": {},
   "outputs": [],
   "source": [
    "import ipywidgets as ipw"
   ]
  },
  {
   "cell_type": "code",
   "execution_count": null,
   "metadata": {},
   "outputs": [],
   "source": [
    "widgets.interact(f, x=(0, 100));"
   ]
  },
  {
   "cell_type": "markdown",
   "metadata": {},
   "source": [
    "## How to load exercise solutions \n",
    "\n",
    "Some exercises have solutions you can load if you prefer. To do that, uncomment the line with `%load` in it, then run the cell **twice**. The first time loads the solution, the second time runs the solution.\n",
    "\n",
    "Here is a short exercise to try that with:\n",
    "\n",
    "**In the cell below, use interact to generate a slider that goes from -10 to 10**"
   ]
  },
  {
   "cell_type": "code",
   "execution_count": null,
   "metadata": {},
   "outputs": [],
   "source": [
    "# %load solutions/intro/intro-example.py"
   ]
  },
  {
   "cell_type": "markdown",
   "metadata": {},
   "source": [
    "## Additional reading\n",
    "\n",
    "### Behind the scenes\n",
    "\n",
    "Behind the scenes, even pure Python widgets are composed of two pieces:\n",
    "\n",
    "+ Python, which runs in the notebook kernel.\n",
    "+ JavaScript, which runs in the browser.\n",
    "\n",
    "When writing your own widgets, that means making a choice: write only in Python or write in both Python and Javascript.\n",
    "\n",
    "Which to choose depends on what you are trying to accomplish. This tutorial will focus on writing your own widgets in pure Python. An example of a pure-Python package that includes some interesting interfaces is [reducer](http://reducer.readthedocs.io), a package for calibrating astronomical data."
   ]
  },
  {
   "cell_type": "markdown",
   "metadata": {},
   "source": [
    "### Jupyter widgets as a framework\n",
    "\n",
    "Jupyter widgets forms a framework for representing python objects interactively. Some large open-source interactive controls based on Jupyter widgets include:\n",
    "\n",
    " - [bqplot](https://github.com/bqplot/bqplot/blob/master/examples/Index.ipynb) - 2d plotting library in which everything displayed is a widget\n",
    " - [ipympl](https://github.com/matplotlib/ipympl) - widget backend for [matplotlib](https://matplotlib.org/3.2.2/contents.html) graphics\n",
    " - [pythreejs](https://pythreejs.readthedocs.io/en/stable/index.html) - low-level 3d graphics library\n",
    " - [ipyvolume](https://ipyvolume.readthedocs.io/en/latest/) - 3d plotting and volume rendering\n",
    " - [ipyleaflet](https://ipyleaflet.readthedocs.io/en/latest/)_ - interactive maps\n",
    " - [ipywebrtc](https://github.com/maartenbreddels/ipywebrtc) - video streaming\n",
    " - [ipysheet](https://ipysheet.readthedocs.io/en/latest/) - interactive spreadsheets\n",
    " - [ipytree](https://github.com/QuantStack/ipytree) - tree for viewing hierarchical material\n",
    " - [ipycanvas](https://ipycanvas.readthedocs.io/en/latest/?badge=latest) - interactive drawing in a notebook\n",
    " - [ipyevents](https://github.com/mwcraig/ipyevents/blob/master/doc/Widget%20DOM%20Events.ipynb) - capture mouse/keyboard events on a widget\n",
    " - ..."
   ]
  },
  {
   "cell_type": "markdown",
   "metadata": {},
   "source": [
    "<!--NAVIGATION-->\n",
    "< [The Jupyter Interactive Widget Ecosystem](00.00-index.ipynb) | [Contents](00.00-index.ipynb) | [Overview](01.00-overview.ipynb) >"
   ]
  }
 ],
 "metadata": {
  "kernelspec": {
   "display_name": "ipywidgets",
   "language": "python",
   "name": "ipywidgets"
  },
  "language_info": {
   "codemirror_mode": {
    "name": "ipython",
    "version": 3
   },
   "file_extension": ".py",
   "mimetype": "text/x-python",
   "name": "python",
   "nbconvert_exporter": "python",
   "pygments_lexer": "ipython3",
   "version": "3.8.10"
  },
  "widgets": {
   "state": {
    "0cb2d81d826b4e25aba3b1d39711ef3f": {
     "views": [
      {
       "cell_index": 6
      }
     ]
    },
    "2cfe6521f9834ca69e54518716104cd2": {
     "views": [
      {
       "cell_index": 8
      },
      {
       "cell_index": 9
      },
      {
       "cell_index": 12
      }
     ]
    },
    "889356d59ac543a49da33d134d791c3f": {
     "views": [
      {
       "cell_index": 11
      }
     ]
    }
   },
   "version": "2.0.0-dev"
  }
 },
 "nbformat": 4,
 "nbformat_minor": 4
}
