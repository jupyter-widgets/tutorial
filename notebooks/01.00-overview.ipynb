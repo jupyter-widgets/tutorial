{
 "cells": [
  {
   "cell_type": "markdown",
   "metadata": {},
   "source": [
    "<!--NAVIGATION-->\n",
    "< [Jupyter Widgets Tutorial Introduction](00.00-introduction.ipynb) | [Contents](00.00-index.ipynb) | [Widgets without writing widgets: interact](02.00-Using-Interact.ipynb) >"
   ]
  },
  {
   "cell_type": "markdown",
   "metadata": {},
   "source": [
    "# Visão geral\n",
    "\n",
    "O que você pode fazer usando apenas Python cresceu bastante nos últimos anos, à medida que ferramentas mais sofisticadas que se conectam ao ecossistema de widgets do Jupyter foram sendo escritas.\n",
    "\n",
    "Uma dessas ferramentas é o [bqplot](https://github.com/bloomberg/bqplot/blob/master/examples/Index.ipynb), que fornece uma ferramenta de plotagem em que o gráfico, as linhas, marcadores, rótulos e legenda, todos atuam como widgets. O bqplot foi desenvolvido usando Python e JavaScript. No lado do JavaScript, o bqplot usa [d3](https://d3js.org/) para fazer o desenho no navegador.\n",
    "\n",
    "A biblioteca de plotagem amplamente usada [matplotlib](https://matplotlib.org/3.2.2/contents.html) também possui uma interface de widget. Use `% matplotlib widget` no notebook para ter gráficos interativos que são widgets. Consulte a documentação do [ipympl](https://github.com/matplotlib/ipympl) para obter mais detalhes sobre como usá-lo como widget.\n",
    "\n",
    "Outro exemplo é [ipyvolume](https://ipyvolume.readthedocs.io/en/latest/), que faz renderizações tridimensionais de dados pontuais ou volumétricos no navegador. Ele tem partes Python e JavaScript, mas para usá-lo requer apenas Python.\n",
    "\n",
    "Uma última adição está no próprio `ipywidgets`: o novo widget` Output` pode exibir qualquer conteúdo que pode ser renderizado em um Jupyter notebook. Isso significa que qualquer coisa que você pode mostrar em um notebook, pode incluir em um widget usando apenas Python."
   ]
  },
  {
   "cell_type": "markdown",
   "metadata": {},
   "source": [
    "## Example 1: COVID painel (somente Python)\n",
    "\n",
    "+ Painel: http://jupyter.mnstate.edu/COVID\n",
    "+ Código: https://github.com/JuanCab/COVID_DataViz (veja `Dashboard.ipynb`)\n",
    "\n",
    "Caixas laranja são [ipympl](); caixa magenta é [ipyleaflet](https://ipyleaflet.readthedocs.io/en/latest/); widgets restantes são de [ipywidgets](https://ipywidgets.readthedocs.io/en/stable/).\n",
    "\n",
    "|    |    |\n",
    "|----|----|\n",
    "![Screenshot of COVID dashboard](images/covid-dash1.png) | ![Screenshot of COVID dashboard map](images/covid-dash2.png)"
   ]
  },
  {
   "cell_type": "markdown",
   "metadata": {},
   "source": [
    "## Exemplo 2: simulação de estrela binária (Python puro)\n",
    "\n",
    "+ Verde: [pythreejs](https://github.com/jupyter-widgets/pythreejs)\n",
    "+ Azul: [bqplot](https://github.com/bloomberg/bqplot/blob/master/examples/Index.ipynb)\n",
    "+ Outros: [ipywidgets](https://github.com/jupyter-widgets/ipywidgets)\n",
    "+ Servindo aos usuários durante o desenvolvimento em [mybinder.org](https://mybinder.org/)\n",
    "\n",
    "![Binary Star Simulator](images/Binary_Star_Sim.png)\n",
    "\n",
    "### Fonte para este exemplo (incluindo links para o binder): https://github.com/JuanCab/AstroInteractives\n",
    "\n",
    "[Video](https://youtu.be/kbgST0uifvM)"
   ]
  },
  {
   "cell_type": "markdown",
   "metadata": {},
   "source": [
    "<!--NAVIGATION-->\n",
    "< [Jupyter Widgets Tutorial Introduction](00.00-introduction.ipynb) | [Contents](00.00-index.ipynb) | [Widgets without writing widgets: interact](02.00-Using-Interact.ipynb) >"
   ]
  }
 ],
 "metadata": {
  "kernelspec": {
   "display_name": "Python 3",
   "language": "python",
   "name": "python3"
  },
  "language_info": {
   "codemirror_mode": {
    "name": "ipython",
    "version": 3
   },
   "file_extension": ".py",
   "mimetype": "text/x-python",
   "name": "python",
   "nbconvert_exporter": "python",
   "pygments_lexer": "ipython3",
   "version": "3.7.0"
  }
 },
 "nbformat": 4,
 "nbformat_minor": 4
}
